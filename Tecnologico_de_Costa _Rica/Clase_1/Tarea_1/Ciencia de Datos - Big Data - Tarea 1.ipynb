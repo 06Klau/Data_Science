{
 "cells": [
  {
   "cell_type": "markdown",
   "metadata": {},
   "source": [
    "                                     Tecnologico de Costa Rica\n",
    "                                  \n",
    "                                       Claudia Alcazar Urena"
   ]
  },
  {
   "cell_type": "markdown",
   "metadata": {},
   "source": [
    "### EDX 2013 Academic  Year Courses\n",
    "\n",
    "This release is comprised of de-identified data from the first year (Academic Year 2013: Fall 2012, Spring 2013, and Summer 2013) of MITx and HarvardX courses on the edX platform along with related documentation. These data are aggregate records, and each record represents one individual's activity in one edX course. For more information about the existing analyses of these data and the first year of HarvardX and MITx courses, please see the HarvardX and MITx working paper \"HarvardX and MITx: The first year of open online courses\" by Andrew Ho, Justin Reich, Sergiy Nesterko, Daniel Seaton, Tommy Mullaney, Jim Waldo, and Isaac Chuang (http://papers.ssrn.com/sol3/papers.cfm?abstract_id=2381263). The first release of this dataset is the HarvardX-MITx Person-Course Academic Year 2013 De-Identified dataset, version 2.0, created on May 14, 2014. File name: HMXPC13_DI_v1_5-14-14.csv The md5sum for this release (HMXPC13_DI_v2_5-14-14.csv) is: 2b09c674af772d45dae429045cf7acfc (2014-05-24)\n",
    "\n",
    "\n",
    "##### Description\n",
    "\n",
    "    Course_Id: \n",
    "    \n",
    "Administrative, string, identifies institution (HarvardX or MITx), course name, and semester, e.g. “HarvardX/CB22x/2013_Spring”.\n",
    "\n",
    "    User_Id_DI: \n",
    "\n",
    "Administrative, string, first portion identifies dataset (MHxPC13 corresponds to MITx HarvardX Person-­‐Course AY13), second portion is a random ID number. Example ID: “MHxPC130442623”.\n",
    "\n",
    "    Registered: \n",
    "\n",
    "Administrative, 0/1; registered for course, =1 for all records in person course.\n",
    "\n",
    "    Viewed: \n",
    "\n",
    "Administrative, 0/1; anyone who accessed the ‘Courseware’ tab (the home of the videos, problem sets, and exams) within the edX platform for the course. Note that there exist course materials outside of the ‘Courseware’ tab, such as the Syllabus or the Discussion forums.\n",
    "\n",
    "    Explored: \n",
    "    \n",
    "Administrative, 0/1; anyone who accessed at least half of the chapters in the courseware (chapters are the highest level on the “courseware” menu housing course content).\n",
    "\n",
    "    Certified: \n",
    "\n",
    "Administrative, 0/1; anyone who earned a certificate. Certificates are based on course grades, and depending on the course, the cutoff for a certificate varies from 50% - 80%.\n",
    "\n",
    "    Final_CC_Cname_DI: \n",
    "\n",
    "Mix of administrative (computed from IP address) and user-­‐ provided (filled in from student address if available when IP was indeterminate); during de-­‐identification, some country names were replaced with the corresponding continent/region name. Examples: “Other South Asia” or “Russian Federation”.\n",
    "\n",
    "    LoE: \n",
    "    \n",
    "User‐provided, highest level of education completed. Possible values: “Less than Secondary,” “Secondary,” “Bachelor’s,” “Master’s,” and “Doctorate.”\n",
    "\n",
    "    YoB: \n",
    "    \n",
    "User‐provided, year of birth. Example: “1980”.\n",
    "\n",
    "    Gender: \n",
    "    \n",
    "User‐provided. Possible values: m (male), f (female) and o (other).\n",
    "\n",
    "    Grade: \n",
    "\n",
    "Administrative, final grade in the course, ranges from 0 to 1. Example: “0.87”.\n",
    "\n",
    "    Start_Time_DI: \n",
    "\n",
    "Administrative, date of course registration. Example: “12/19/12”.\n",
    "\n",
    "    Last_Event_DI: \n",
    "\n",
    "Administrative, date of last interaction with course, blank if no interactions beyond registration. Example “11/17/13”.\n",
    "\n",
    "    NEvents: \n",
    "\n",
    "Administrative, number of interactions with the course, recorded in the tracking logs; blank if no interactions beyond registration. Example: “502”.\n",
    "\n",
    "    NDays_Act: \n",
    "\n",
    "Administrative, number of unique days student interacted with course. Example: “16”.\n",
    "\n",
    "    NPlay_Video: \n",
    "\n",
    "Administrative, number of play video events within the course. Example: “52”.\n",
    "\n",
    "    NChapters: \n",
    "\n",
    "Administrative, number of chapters (within the Courseware) with which the student interacted. Example: “12”.\n",
    "\n",
    "    NForum_Posts: \n",
    "    \n",
    "Administrative, number of posts to the Discussion Forum. Example: “8”.\n",
    "\n",
    "    Roles: \n",
    "\n",
    "Administrative, identifies staff and instructors, but blank as staff and instructors were removed from this release.\n",
    "\n",
    "    Inconsistent_Flag: \n",
    "\n",
    "Administrative, identifies records that are internally inconsistent. Due to a variety of data issues, including missing tracking logs and one course\n",
    "\n",
    "\n",
    "Referencia: https://dataverse.harvard.edu/dataset.xhtml?persistentId=doi:10.7910/DVN/26147"
   ]
  },
  {
   "cell_type": "code",
   "execution_count": 39,
   "metadata": {},
   "outputs": [],
   "source": [
    "#Importar Librerias\n",
    "\n",
    "import pyspark\n",
    "import findspark"
   ]
  },
  {
   "cell_type": "code",
   "execution_count": 40,
   "metadata": {},
   "outputs": [],
   "source": [
    "findspark.init('C:\\Program Files (x86)\\Spark')"
   ]
  },
  {
   "cell_type": "code",
   "execution_count": 41,
   "metadata": {},
   "outputs": [],
   "source": [
    "#Spark Session\n",
    "\n",
    "spark=SparkSession.builder.appName('tarea_1').getOrCreate()"
   ]
  },
  {
   "cell_type": "code",
   "execution_count": 47,
   "metadata": {},
   "outputs": [],
   "source": [
    "#Cargar Data\n",
    "df = spark.read.format('csv').options(header='true', inferSchema='true').load('EdX_2013 Academic Year Courses.csv')"
   ]
  },
  {
   "cell_type": "code",
   "execution_count": 163,
   "metadata": {},
   "outputs": [
    {
     "name": "stdout",
     "output_type": "stream",
     "text": [
      "El total es:\n"
     ]
    },
    {
     "data": {
      "text/plain": [
       "641138"
      ]
     },
     "execution_count": 163,
     "metadata": {},
     "output_type": "execute_result"
    }
   ],
   "source": [
    "print(\"El total es:\")\n",
    "df.count()"
   ]
  },
  {
   "cell_type": "code",
   "execution_count": 164,
   "metadata": {},
   "outputs": [
    {
     "name": "stdout",
     "output_type": "stream",
     "text": [
      "El total de columnas es:\n"
     ]
    },
    {
     "data": {
      "text/plain": [
       "23"
      ]
     },
     "execution_count": 164,
     "metadata": {},
     "output_type": "execute_result"
    }
   ],
   "source": [
    "print(\"El total de columnas es:\")\n",
    "len(df.columns)"
   ]
  },
  {
   "cell_type": "code",
   "execution_count": 165,
   "metadata": {},
   "outputs": [
    {
     "name": "stdout",
     "output_type": "stream",
     "text": [
      "El esquema es:\n",
      "root\n",
      " |-- course_id: string (nullable = true)\n",
      " |-- Course Short Title: string (nullable = true)\n",
      " |-- Course Long Title: string (nullable = true)\n",
      " |-- userid_DI: string (nullable = true)\n",
      " |-- registered: integer (nullable = true)\n",
      " |-- viewed: integer (nullable = true)\n",
      " |-- explored: integer (nullable = true)\n",
      " |-- certified: integer (nullable = true)\n",
      " |-- Country: string (nullable = true)\n",
      " |-- LoE_DI: string (nullable = true)\n",
      " |-- YoB: string (nullable = true)\n",
      " |-- Age: string (nullable = true)\n",
      " |-- gender: string (nullable = true)\n",
      " |-- grade: string (nullable = true)\n",
      " |-- start_time_DI: string (nullable = true)\n",
      " |-- last_event_DI: string (nullable = true)\n",
      " |-- nevents: integer (nullable = true)\n",
      " |-- ndays_act: integer (nullable = true)\n",
      " |-- nplay_video: integer (nullable = true)\n",
      " |-- nchapters: integer (nullable = true)\n",
      " |-- nforum_posts: integer (nullable = true)\n",
      " |-- roles: string (nullable = true)\n",
      " |-- incomplete_flag: integer (nullable = true)\n",
      "\n"
     ]
    }
   ],
   "source": [
    "print(\"El esquema es:\")\n",
    "\n",
    "df.printSchema()"
   ]
  },
  {
   "cell_type": "markdown",
   "metadata": {},
   "source": [
    "### Parte II - Ejercicios Vistos en Clase"
   ]
  },
  {
   "cell_type": "markdown",
   "metadata": {},
   "source": [
    "### Sample of the DataFrame"
   ]
  },
  {
   "cell_type": "code",
   "execution_count": 184,
   "metadata": {},
   "outputs": [
    {
     "name": "stdout",
     "output_type": "stream",
     "text": [
      "Seleccionar solo las columnas a utilizar\n"
     ]
    }
   ],
   "source": [
    "print(\"Seleccionar solo las columnas a utilizar\")\n",
    "\n",
    "df_sample = df.select(\"course_id\", \"userid_DI\",\"registered\",\"viewed\",\"explored\", \"certified\",\"Country\",\"Age\", \"gender\",\"grade\")"
   ]
  },
  {
   "cell_type": "markdown",
   "metadata": {},
   "source": [
    "### Show Results "
   ]
  },
  {
   "cell_type": "code",
   "execution_count": 167,
   "metadata": {},
   "outputs": [
    {
     "name": "stdout",
     "output_type": "stream",
     "text": [
      "Mostrar primeros 10 Registros\n",
      "+--------------------+--------------+----------+------+--------+---------+-------------+-------+------+-----+\n",
      "|           course_id|     userid_DI|registered|viewed|explored|certified|      Country|    Age|gender|grade|\n",
      "+--------------------+--------------+----------+------+--------+---------+-------------+-------+------+-----+\n",
      "|HarvardX/CB22x/20...|MHxPC130442623|         1|     0|       0|        0|United States|#VALUE!|    NA|    0|\n",
      "|HarvardX/CB22x/20...|MHxPC130275857|         1|     0|       0|        0|United States|#VALUE!|    NA|    0|\n",
      "|HarvardX/CB22x/20...|MHxPC130539455|         1|     1|       0|        0|       France|#VALUE!|    NA|    0|\n",
      "|HarvardX/CB22x/20...|MHxPC130088379|         1|     1|       0|        0|United States|#VALUE!|    NA|    0|\n",
      "|HarvardX/CB22x/20...|MHxPC130024894|         1|     1|       0|        0|United States|#VALUE!|    NA| 0.07|\n",
      "|HarvardX/CB22x/20...|MHxPC130340959|         1|     1|       0|        0|United States|#VALUE!|    NA| 0.05|\n",
      "|HarvardX/CB22x/20...|MHxPC130148402|         1|     0|       0|        0|United States|#VALUE!|    NA|    0|\n",
      "|HarvardX/CB22x/20...|MHxPC130435030|         1|     1|       0|        0|       Canada|#VALUE!|    NA|    0|\n",
      "|HarvardX/CB22x/20...|MHxPC130542822|         1|     1|       0|        0|United States|#VALUE!|    NA| null|\n",
      "|HarvardX/CB22x/20...|MHxPC130069044|         1|     0|       0|        0|United States|#VALUE!|    NA|    0|\n",
      "+--------------------+--------------+----------+------+--------+---------+-------------+-------+------+-----+\n",
      "only showing top 10 rows\n",
      "\n"
     ]
    }
   ],
   "source": [
    "print(\"Mostrar primeros 10 Registros\")\n",
    "\n",
    "df_sample.show(10)"
   ]
  },
  {
   "cell_type": "markdown",
   "metadata": {},
   "source": [
    "### Analisis de Valor del Archivo "
   ]
  },
  {
   "cell_type": "markdown",
   "metadata": {},
   "source": [
    "#### 1. ¿Cuantos usuarios estan certificados por pais?"
   ]
  },
  {
   "cell_type": "code",
   "execution_count": 124,
   "metadata": {},
   "outputs": [
    {
     "name": "stdout",
     "output_type": "stream",
     "text": [
      "+--------------------+-----+\n",
      "|             Country|count|\n",
      "+--------------------+-----+\n",
      "|       Other Oceania|    5|\n",
      "|             Morocco|   28|\n",
      "|          Bangladesh|   34|\n",
      "|               Japan|   40|\n",
      "|       Unknown/Other|   61|\n",
      "|               China|   62|\n",
      "|         Philippines|   81|\n",
      "|           Indonesia|   96|\n",
      "|            Portugal|  112|\n",
      "|               Egypt|  120|\n",
      "|     Other East Asia|  127|\n",
      "|             Nigeria|  143|\n",
      "|            Pakistan|  157|\n",
      "|              Mexico|  168|\n",
      "|Other North & Cen...|  169|\n",
      "|           Australia|  196|\n",
      "|            Colombia|  202|\n",
      "|             Ukraine|  203|\n",
      "|              France|  204|\n",
      "| Other South America|  292|\n",
      "|              Greece|  317|\n",
      "|Other Middle East...|  320|\n",
      "|              Canada|  333|\n",
      "|    Other South Asia|  408|\n",
      "|              Poland|  413|\n",
      "|              Brazil|  453|\n",
      "|             Germany|  462|\n",
      "|        Other Africa|  599|\n",
      "|  Russian Federation|  635|\n",
      "|               Spain|  837|\n",
      "+--------------------+-----+\n",
      "only showing top 30 rows\n",
      "\n"
     ]
    }
   ],
   "source": [
    "df_sample.where(df_sample['certified'] == 1).groupBy(\"Country\").count().sort(\"count\", ascending=True).show(30)"
   ]
  },
  {
   "cell_type": "code",
   "execution_count": 141,
   "metadata": {},
   "outputs": [
    {
     "data": {
      "text/plain": [
       "[Row(sum(count)=17687)]"
      ]
     },
     "execution_count": 141,
     "metadata": {},
     "output_type": "execute_result"
    }
   ],
   "source": [
    "df_sample.where(df_sample['certified'] == 1).groupBy(\"Country\").count().agg(sum(\"count\")).collect()"
   ]
  },
  {
   "cell_type": "markdown",
   "metadata": {},
   "source": [
    "El total de usuarios certificados por el EDX durante el 2013 fue de 17687, tanto hombres como mujeres."
   ]
  },
  {
   "cell_type": "markdown",
   "metadata": {},
   "source": [
    "#### 2. ¿Cuantos usuarios que estan certificados por pais son mujeres?"
   ]
  },
  {
   "cell_type": "code",
   "execution_count": 142,
   "metadata": {},
   "outputs": [
    {
     "name": "stdout",
     "output_type": "stream",
     "text": [
      "+--------------------+-----+\n",
      "|             Country|count|\n",
      "+--------------------+-----+\n",
      "|       Other Oceania|    1|\n",
      "|               Japan|    2|\n",
      "|             Morocco|    3|\n",
      "|          Bangladesh|    5|\n",
      "|       Unknown/Other|   17|\n",
      "|         Philippines|   21|\n",
      "|               China|   22|\n",
      "|            Portugal|   24|\n",
      "|            Pakistan|   25|\n",
      "|             Ukraine|   27|\n",
      "|              Mexico|   30|\n",
      "|     Other East Asia|   32|\n",
      "|               Egypt|   32|\n",
      "|             Nigeria|   34|\n",
      "|              Poland|   37|\n",
      "|Other North & Cen...|   41|\n",
      "|           Indonesia|   45|\n",
      "|              France|   46|\n",
      "|  Russian Federation|   51|\n",
      "|            Colombia|   52|\n",
      "|           Australia|   53|\n",
      "| Other South America|   64|\n",
      "|              Brazil|   77|\n",
      "|              Canada|   85|\n",
      "|Other Middle East...|   90|\n",
      "|    Other South Asia|   97|\n",
      "|             Germany|  107|\n",
      "|              Greece|  115|\n",
      "|        Other Africa|  158|\n",
      "|               Spain|  182|\n",
      "|      United Kingdom|  211|\n",
      "|        Other Europe|  468|\n",
      "|               India|  660|\n",
      "|       United States| 1318|\n",
      "+--------------------+-----+\n",
      "\n"
     ]
    }
   ],
   "source": [
    "df_sample.where((df_sample['certified'] == 1) & (df_sample['gender'] == \"f\")).groupBy(\"Country\").count().sort(\"count\", ascending=True).show(100)"
   ]
  },
  {
   "cell_type": "code",
   "execution_count": 140,
   "metadata": {},
   "outputs": [
    {
     "data": {
      "text/plain": [
       "[Row(sum(count)=4232)]"
      ]
     },
     "execution_count": 140,
     "metadata": {},
     "output_type": "execute_result"
    }
   ],
   "source": [
    "df_sample.where((df_sample['certified'] == 1) & (df_sample['gender'] == \"f\")).groupBy(\"Country\").count().agg(sum(\"count\")).collect()"
   ]
  },
  {
   "cell_type": "markdown",
   "metadata": {},
   "source": [
    "Del total de 17687 solo un total de 4232 mujeres han sido activas en la plataforma de EDX y han recibido al menos una certificacion."
   ]
  },
  {
   "cell_type": "markdown",
   "metadata": {},
   "source": [
    "#### 3. ¿Cuantos de los usuarios que estan certificados por pais son mujeres mayores a 35 anios?"
   ]
  },
  {
   "cell_type": "code",
   "execution_count": 139,
   "metadata": {},
   "outputs": [
    {
     "name": "stdout",
     "output_type": "stream",
     "text": [
      "+--------------------+-----+\n",
      "|             Country|count|\n",
      "+--------------------+-----+\n",
      "|     Other East Asia|    1|\n",
      "|               Japan|    1|\n",
      "|Other North & Cen...|    1|\n",
      "|               China|    1|\n",
      "|             Nigeria|    2|\n",
      "|               Egypt|    2|\n",
      "|           Australia|    3|\n",
      "|  Russian Federation|    4|\n",
      "|              Brazil|    4|\n",
      "| Other South America|    4|\n",
      "|Other Middle East...|    5|\n",
      "|            Colombia|    5|\n",
      "|    Other South Asia|    8|\n",
      "|             Germany|    8|\n",
      "|              Canada|   11|\n",
      "|      United Kingdom|   16|\n",
      "|        Other Africa|   19|\n",
      "|              Greece|   19|\n",
      "|               Spain|   21|\n",
      "|               India|   53|\n",
      "|        Other Europe|   76|\n",
      "|       United States|  418|\n",
      "+--------------------+-----+\n",
      "\n"
     ]
    }
   ],
   "source": [
    "df_sample.where((df_sample['certified'] == 1) & (df_sample['gender'] == \"f\") & (df_sample['age'] > 35)).groupBy(\"Country\").count().sort(\"count\", ascending=True).show(100)"
   ]
  },
  {
   "cell_type": "code",
   "execution_count": 138,
   "metadata": {},
   "outputs": [
    {
     "data": {
      "text/plain": [
       "[Row(sum(count)=682)]"
      ]
     },
     "execution_count": 138,
     "metadata": {},
     "output_type": "execute_result"
    }
   ],
   "source": [
    "df_sample.where((df_sample['certified'] == 1) & (df_sample['gender'] == \"f\") & (df_sample['age'] > 35)).groupBy(\"Country\").count().agg(sum(\"count\")).collect()"
   ]
  },
  {
   "cell_type": "markdown",
   "metadata": {},
   "source": [
    "Es posible determinar que de 4232 solo 682 de las mujeres presentes en este tipo de curso son mayores a 35 anios."
   ]
  },
  {
   "cell_type": "markdown",
   "metadata": {},
   "source": [
    "#### 4. ¿Cuales son los cursos donde hubo mayor presencia femenina que obtuvieron una certificacion por parte del EDX?"
   ]
  },
  {
   "cell_type": "code",
   "execution_count": 132,
   "metadata": {},
   "outputs": [
    {
     "name": "stdout",
     "output_type": "stream",
     "text": [
      "+--------------------+-----+\n",
      "|           course_id|count|\n",
      "+--------------------+-----+\n",
      "|MITx/14.73x/2013_...| 1107|\n",
      "|HarvardX/PH207x/2...|  814|\n",
      "|HarvardX/ER22x/20...|  711|\n",
      "|HarvardX/PH278x/2...|  298|\n",
      "|MITx/6.00x/2012_Fall|  242|\n",
      "|MITx/7.00x/2013_S...|  226|\n",
      "| HarvardX/CS50x/2012|  162|\n",
      "|HarvardX/CB22x/20...|  147|\n",
      "|MITx/6.002x/2012_...|  134|\n",
      "|MITx/6.00x/2013_S...|  123|\n",
      "|MITx/3.091x/2012_...|  121|\n",
      "|MITx/6.002x/2013_...|   52|\n",
      "|MITx/8.02x/2013_S...|   45|\n",
      "|MITx/8.MReV/2013_...|   21|\n",
      "|MITx/3.091x/2013_...|   19|\n",
      "|MITx/2.01x/2013_S...|   10|\n",
      "+--------------------+-----+\n",
      "\n"
     ]
    }
   ],
   "source": [
    "df_sample.where((df_sample['certified'] == 1) & (df_sample['gender'] == \"f\")).groupBy(\"course_id\").count().sort(\"count\", ascending=False).show(50)"
   ]
  },
  {
   "cell_type": "markdown",
   "metadata": {},
   "source": [
    "Un numero total de 1107 de las mujeres que tienen una certificacion por parte del EDX cursaron \"Los Desafios de la Pobreza Mundial\"(MITx/14.73x/)."
   ]
  },
  {
   "cell_type": "markdown",
   "metadata": {},
   "source": [
    "#### 5. ¿Cuales son las notas promedio por curso donde hubo mayor presencia femenina que obtuvieron una certificacion por parte del EDX?"
   ]
  },
  {
   "cell_type": "code",
   "execution_count": 137,
   "metadata": {},
   "outputs": [
    {
     "name": "stdout",
     "output_type": "stream",
     "text": [
      "+--------------------+------------------+\n",
      "|           course_id|(avg(grade) * 100)|\n",
      "+--------------------+------------------+\n",
      "| HarvardX/CS50x/2012|             100.0|\n",
      "|MITx/6.002x/2012_...| 88.55970149253727|\n",
      "|MITx/6.002x/2013_...| 78.94230769230771|\n",
      "|MITx/2.01x/2013_S...| 71.50000000000001|\n",
      "|MITx/3.091x/2013_...| 81.10526315789474|\n",
      "|MITx/8.02x/2013_S...|  74.2222222222222|\n",
      "|HarvardX/CB22x/20...| 76.09523809523814|\n",
      "|HarvardX/ER22x/20...| 81.74542897327723|\n",
      "|MITx/8.MReV/2013_...|  73.7142857142857|\n",
      "|MITx/3.091x/2012_...| 85.71074380165287|\n",
      "|MITx/6.00x/2013_S...| 77.48780487804876|\n",
      "|MITx/7.00x/2013_S...| 73.59292035398225|\n",
      "|MITx/6.00x/2012_Fall| 80.43801652892562|\n",
      "|HarvardX/PH278x/2...| 74.81879194630872|\n",
      "|MITx/14.73x/2013_...| 78.97199638663048|\n",
      "|HarvardX/PH207x/2...| 92.82678132678147|\n",
      "+--------------------+------------------+\n",
      "\n"
     ]
    }
   ],
   "source": [
    "df_sample.where((df_sample['certified'] == 1) & (df_sample['gender'] == \"f\")).groupBy(\"course_id\").agg(avg('grade')*100).show(50)"
   ]
  },
  {
   "cell_type": "markdown",
   "metadata": {},
   "source": [
    "Un numero total de 1107 de las mujeres que tienen una certificacion por parte del EDX cursaron \"Los Desafios de la Pobreza Mundial\"(MITx/14.73x/) con un promedio de 78.97. Mientras tanto llamado \"Computer Science\" (HarvardX/CS50x) el cual fue cursado por 162 mujeres tuvo un promedio 100.0"
   ]
  },
  {
   "cell_type": "markdown",
   "metadata": {},
   "source": [
    "### Nuevos Comandos"
   ]
  },
  {
   "cell_type": "markdown",
   "metadata": {},
   "source": [
    "#### Repartition\n",
    "\n",
    "Este comando nos permite crear una division logica de un archivo en bloques mas pequenos para que puedan ser procesados simultaneamente, este metodo ayuda a mejorar el rendimiento de las operaciones de spark.\n",
    "\n",
    "Hay diferentes tipos de repartition: \n",
    "\n",
    "    repartition(Column... partitionExprs)\n",
    "        retorna un data frame basado en una columna especifica y sus valores\n",
    "\n",
    "    repartition(int numPartitions)\n",
    "        retorna un data frame basado en un numero especifico de particiones"
   ]
  },
  {
   "cell_type": "code",
   "execution_count": 147,
   "metadata": {},
   "outputs": [],
   "source": [
    "#Crear una division logica de male, female, null, etc.\n",
    "dl_rep1 = df.repartition(\"gender\")\n",
    "\n",
    "#Crear una division logica de 50 bloques\n",
    "dl_rep2 = df.repartition(50)"
   ]
  },
  {
   "cell_type": "markdown",
   "metadata": {},
   "source": [
    "#### Write \n",
    "\n",
    "Este comando nos permite volver a escribir los resultados parciales o finales de las transfomaciones a un archivo que puede ser csv, parquet, etc."
   ]
  },
  {
   "cell_type": "code",
   "execution_count": 155,
   "metadata": {},
   "outputs": [],
   "source": [
    "df.write.csv(\"/Users/calcazar/Desktop/Test/Csv\")"
   ]
  },
  {
   "cell_type": "markdown",
   "metadata": {},
   "source": [
    "#### Persist and Unpersist \n",
    "\n",
    "Este comando nos permite guardar el data frame en la memoria default designada para su uso posterior, y el unpersist remueve y libera los bloques previamente guardados dando especio a nuevos bloques."
   ]
  },
  {
   "cell_type": "code",
   "execution_count": 160,
   "metadata": {},
   "outputs": [
    {
     "data": {
      "text/plain": [
       "DataFrame[course_id: string, Course Short Title: string, Course Long Title: string, userid_DI: string, registered: int, viewed: int, explored: int, certified: int, Country: string, LoE_DI: string, YoB: string, Age: string, gender: string, grade: string, start_time_DI: string, last_event_DI: string, nevents: int, ndays_act: int, nplay_video: int, nchapters: int, nforum_posts: int, roles: string, incomplete_flag: int]"
      ]
     },
     "execution_count": 160,
     "metadata": {},
     "output_type": "execute_result"
    }
   ],
   "source": [
    "df.persist()"
   ]
  },
  {
   "cell_type": "code",
   "execution_count": 161,
   "metadata": {},
   "outputs": [
    {
     "data": {
      "text/plain": [
       "DataFrame[course_id: string, Course Short Title: string, Course Long Title: string, userid_DI: string, registered: int, viewed: int, explored: int, certified: int, Country: string, LoE_DI: string, YoB: string, Age: string, gender: string, grade: string, start_time_DI: string, last_event_DI: string, nevents: int, ndays_act: int, nplay_video: int, nchapters: int, nforum_posts: int, roles: string, incomplete_flag: int]"
      ]
     },
     "execution_count": 161,
     "metadata": {},
     "output_type": "execute_result"
    }
   ],
   "source": [
    "df.unpersist()"
   ]
  },
  {
   "cell_type": "code",
   "execution_count": null,
   "metadata": {},
   "outputs": [],
   "source": []
  }
 ],
 "metadata": {
  "kernelspec": {
   "display_name": "Python 3",
   "language": "python",
   "name": "python3"
  },
  "language_info": {
   "codemirror_mode": {
    "name": "ipython",
    "version": 3
   },
   "file_extension": ".py",
   "mimetype": "text/x-python",
   "name": "python",
   "nbconvert_exporter": "python",
   "pygments_lexer": "ipython3",
   "version": "3.7.5"
  }
 },
 "nbformat": 4,
 "nbformat_minor": 2
}
